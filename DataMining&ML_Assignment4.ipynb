{
  "cells": [
    {
      "cell_type": "markdown",
      "metadata": {
        "id": "u2y23UMH9yOP"
      },
      "source": [
        "## 14. Transfer learning VGG16 + cifar **10**"
      ]
    },
    {
      "cell_type": "code",
      "execution_count": 20,
      "metadata": {
        "id": "O1qIjB6M9gFQ"
      },
      "outputs": [],
      "source": [
        "# Libraries\n",
        "from keras import datasets, layers, models\n",
        "from keras.utils import to_categorical\n",
        "from keras.models import Sequential\n",
        "from keras.layers import Dense, Flatten\n",
        "import matplotlib.pyplot as plt\n",
        "from keras.applications import VGG16\n",
        "from keras.datasets import mnist\n",
        "import numpy as np"
      ]
    },
    {
      "cell_type": "code",
      "execution_count": 21,
      "metadata": {
        "id": "jJtZgAX49w9j",
        "colab": {
          "base_uri": "https://localhost:8080/",
          "height": 488
        },
        "outputId": "e34e39e3-6691-4b05-adbb-1f085b936d79"
      },
      "outputs": [
        {
          "output_type": "stream",
          "name": "stdout",
          "text": [
            "Train images shape: (50000, 32, 32, 3), Train labels shape: (50000, 10)\n",
            "Test images shape: (10000, 32, 32, 3), Test labels shape: (10000, 10)\n"
          ]
        },
        {
          "output_type": "display_data",
          "data": {
            "text/plain": [
              "<Figure size 640x480 with 1 Axes>"
            ],
            "image/png": "[encoded data removed]"
          },
          "metadata": {}
        }
      ],
      "source": [
        "(train_images, train_labels), (test_images, test_labels) = datasets.cifar10.load_data()\n",
        "# Creating a list of all the class labels\n",
        "class_names = ['airplane', 'automobile', 'bird', 'cat', 'deer', 'dog', 'frog', 'horse', 'ship', 'truck']\n",
        "# Converting the pixels data to float type\n",
        "train_images = train_images.astype('float32')\n",
        "test_images = test_images.astype('float32')\n",
        "# Normalize input\n",
        "train_images = train_images / 255\n",
        "test_images = test_images / 255\n",
        "# change target class to one hot encoding\n",
        "# use ‘to_categorical’ function\n",
        "num_classes = 10\n",
        "\n",
        "# 14. 1)-1\n",
        "train_labels = to_categorical(train_labels, num_classes)\n",
        "test_labels = to_categorical(test_labels, num_classes)\n",
        "\n",
        "# 14. 1)-2\n",
        "# Show the shapes\n",
        "print(f\"Train images shape: {train_images.shape}, Train labels shape: {train_labels.shape}\")\n",
        "print(f\"Test images shape: {test_images.shape}, Test labels shape: {test_labels.shape}\")\n",
        "\n",
        "# Display one sample image\n",
        "plt.imshow(train_images[0])\n",
        "plt.title(f\"Label: {class_names[np.argmax(train_labels[0])]}\")\n",
        "plt.show()"
      ]
    },
    {
      "cell_type": "markdown",
      "metadata": {
        "id": "F0AonnONDQLG"
      },
      "source": []
    },
    {
      "cell_type": "code",
      "execution_count": 22,
      "metadata": {
        "id": "njdHbq_E91b6",
        "colab": {
          "base_uri": "https://localhost:8080/",
          "height": 315
        },
        "outputId": "737c2d93-5ee6-47e2-90ca-52b9d2cecf66"
      },
      "outputs": [
        {
          "output_type": "display_data",
          "data": {
            "text/plain": [
              "\u001b[1mModel: \"sequential_6\"\u001b[0m\n"
            ],
            "text/html": [
              "<pre style=\"white-space:pre;overflow-x:auto;line-height:normal;font-family:Menlo,'DejaVu Sans Mono',consolas,'Courier New',monospace\"><span style=\"font-weight: bold\">Model: \"sequential_6\"</span>\n",
              "</pre>\n"
            ]
          },
          "metadata": {}
        },
        {
          "output_type": "display_data",
          "data": {
            "text/plain": [
              "┏━━━━━━━━━━━━━━━━━━━━━━━━━━━━━━━━━━━━━━┳━━━━━━━━━━━━━━━━━━━━━━━━━━━━━┳━━━━━━━━━━━━━━━━━┓\n",
              "┃\u001b[1m \u001b[0m\u001b[1mLayer (type)                        \u001b[0m\u001b[1m \u001b[0m┃\u001b[1m \u001b[0m\u001b[1mOutput Shape               \u001b[0m\u001b[1m \u001b[0m┃\u001b[1m \u001b[0m\u001b[1m        Param #\u001b[0m\u001b[1m \u001b[0m┃\n",
              "┡━━━━━━━━━━━━━━━━━━━━━━━━━━━━━━━━━━━━━━╇━━━━━━━━━━━━━━━━━━━━━━━━━━━━━╇━━━━━━━━━━━━━━━━━┩\n",
              "│ vgg16 (\u001b[38;5;33mFunctional\u001b[0m)                   │ (\u001b[38;5;45mNone\u001b[0m, \u001b[38;5;34m1\u001b[0m, \u001b[38;5;34m1\u001b[0m, \u001b[38;5;34m512\u001b[0m)           │      \u001b[38;5;34m14,714,688\u001b[0m │\n",
              "├──────────────────────────────────────┼─────────────────────────────┼─────────────────┤\n",
              "│ flatten_11 (\u001b[38;5;33mFlatten\u001b[0m)                 │ (\u001b[38;5;45mNone\u001b[0m, \u001b[38;5;34m512\u001b[0m)                 │               \u001b[38;5;34m0\u001b[0m │\n",
              "├──────────────────────────────────────┼─────────────────────────────┼─────────────────┤\n",
              "│ dense_33 (\u001b[38;5;33mDense\u001b[0m)                     │ (\u001b[38;5;45mNone\u001b[0m, \u001b[38;5;34m20\u001b[0m)                  │          \u001b[38;5;34m10,260\u001b[0m │\n",
              "├──────────────────────────────────────┼─────────────────────────────┼─────────────────┤\n",
              "│ dense_34 (\u001b[38;5;33mDense\u001b[0m)                     │ (\u001b[38;5;45mNone\u001b[0m, \u001b[38;5;34m10\u001b[0m)                  │             \u001b[38;5;34m210\u001b[0m │\n",
              "├──────────────────────────────────────┼─────────────────────────────┼─────────────────┤\n",
              "│ dense_35 (\u001b[38;5;33mDense\u001b[0m)                     │ (\u001b[38;5;45mNone\u001b[0m, \u001b[38;5;34m10\u001b[0m)                  │             \u001b[38;5;34m110\u001b[0m │\n",
              "└──────────────────────────────────────┴─────────────────────────────┴─────────────────┘\n"
            ],
            "text/html": [
              "<pre style=\"white-space:pre;overflow-x:auto;line-height:normal;font-family:Menlo,'DejaVu Sans Mono',consolas,'Courier New',monospace\">┏━━━━━━━━━━━━━━━━━━━━━━━━━━━━━━━━━━━━━━┳━━━━━━━━━━━━━━━━━━━━━━━━━━━━━┳━━━━━━━━━━━━━━━━━┓\n",
              "┃<span style=\"font-weight: bold\"> Layer (type)                         </span>┃<span style=\"font-weight: bold\"> Output Shape                </span>┃<span style=\"font-weight: bold\">         Param # </span>┃\n",
              "┡━━━━━━━━━━━━━━━━━━━━━━━━━━━━━━━━━━━━━━╇━━━━━━━━━━━━━━━━━━━━━━━━━━━━━╇━━━━━━━━━━━━━━━━━┩\n",
              "│ vgg16 (<span style=\"color: #0087ff; text-decoration-color: #0087ff\">Functional</span>)                   │ (<span style=\"color: #00d7ff; text-decoration-color: #00d7ff\">None</span>, <span style=\"color: #00af00; text-decoration-color: #00af00\">1</span>, <span style=\"color: #00af00; text-decoration-color: #00af00\">1</span>, <span style=\"color: #00af00; text-decoration-color: #00af00\">512</span>)           │      <span style=\"color: #00af00; text-decoration-color: #00af00\">14,714,688</span> │\n",
              "├──────────────────────────────────────┼─────────────────────────────┼─────────────────┤\n",
              "│ flatten_11 (<span style=\"color: #0087ff; text-decoration-color: #0087ff\">Flatten</span>)                 │ (<span style=\"color: #00d7ff; text-decoration-color: #00d7ff\">None</span>, <span style=\"color: #00af00; text-decoration-color: #00af00\">512</span>)                 │               <span style=\"color: #00af00; text-decoration-color: #00af00\">0</span> │\n",
              "├──────────────────────────────────────┼─────────────────────────────┼─────────────────┤\n",
              "│ dense_33 (<span style=\"color: #0087ff; text-decoration-color: #0087ff\">Dense</span>)                     │ (<span style=\"color: #00d7ff; text-decoration-color: #00d7ff\">None</span>, <span style=\"color: #00af00; text-decoration-color: #00af00\">20</span>)                  │          <span style=\"color: #00af00; text-decoration-color: #00af00\">10,260</span> │\n",
              "├──────────────────────────────────────┼─────────────────────────────┼─────────────────┤\n",
              "│ dense_34 (<span style=\"color: #0087ff; text-decoration-color: #0087ff\">Dense</span>)                     │ (<span style=\"color: #00d7ff; text-decoration-color: #00d7ff\">None</span>, <span style=\"color: #00af00; text-decoration-color: #00af00\">10</span>)                  │             <span style=\"color: #00af00; text-decoration-color: #00af00\">210</span> │\n",
              "├──────────────────────────────────────┼─────────────────────────────┼─────────────────┤\n",
              "│ dense_35 (<span style=\"color: #0087ff; text-decoration-color: #0087ff\">Dense</span>)                     │ (<span style=\"color: #00d7ff; text-decoration-color: #00d7ff\">None</span>, <span style=\"color: #00af00; text-decoration-color: #00af00\">10</span>)                  │             <span style=\"color: #00af00; text-decoration-color: #00af00\">110</span> │\n",
              "└──────────────────────────────────────┴─────────────────────────────┴─────────────────┘\n",
              "</pre>\n"
            ]
          },
          "metadata": {}
        },
        {
          "output_type": "display_data",
          "data": {
            "text/plain": [
              "\u001b[1m Total params: \u001b[0m\u001b[38;5;34m14,725,268\u001b[0m (56.17 MB)\n"
            ],
            "text/html": [
              "<pre style=\"white-space:pre;overflow-x:auto;line-height:normal;font-family:Menlo,'DejaVu Sans Mono',consolas,'Courier New',monospace\"><span style=\"font-weight: bold\"> Total params: </span><span style=\"color: #00af00; text-decoration-color: #00af00\">14,725,268</span> (56.17 MB)\n",
              "</pre>\n"
            ]
          },
          "metadata": {}
        },
        {
          "output_type": "display_data",
          "data": {
            "text/plain": [
              "\u001b[1m Trainable params: \u001b[0m\u001b[38;5;34m10,580\u001b[0m (41.33 KB)\n"
            ],
            "text/html": [
              "<pre style=\"white-space:pre;overflow-x:auto;line-height:normal;font-family:Menlo,'DejaVu Sans Mono',consolas,'Courier New',monospace\"><span style=\"font-weight: bold\"> Trainable params: </span><span style=\"color: #00af00; text-decoration-color: #00af00\">10,580</span> (41.33 KB)\n",
              "</pre>\n"
            ]
          },
          "metadata": {}
        },
        {
          "output_type": "display_data",
          "data": {
            "text/plain": [
              "\u001b[1m Non-trainable params: \u001b[0m\u001b[38;5;34m14,714,688\u001b[0m (56.13 MB)\n"
            ],
            "text/html": [
              "<pre style=\"white-space:pre;overflow-x:auto;line-height:normal;font-family:Menlo,'DejaVu Sans Mono',consolas,'Courier New',monospace\"><span style=\"font-weight: bold\"> Non-trainable params: </span><span style=\"color: #00af00; text-decoration-color: #00af00\">14,714,688</span> (56.13 MB)\n",
              "</pre>\n"
            ]
          },
          "metadata": {}
        },
        {
          "output_type": "stream",
          "name": "stdout",
          "text": [
            "None\n"
          ]
        }
      ],
      "source": [
        "# Create network model using transfer learning\n",
        "# fine_tune: # of layers to be trainable\n",
        "def create_model(input_shape, fine_tune=0):\n",
        "  conv_base = VGG16(include_top=False, weights='imagenet', input_shape=input_shape)\n",
        "# Defines how many layers trainable(updatable) during training.\n",
        "# Layers in the convolutional base are set to non-trainable\n",
        "# depending on the size of the fine-tuning parameter.\n",
        "  if fine_tune > 0:\n",
        "    for layer in conv_base.layers[:-fine_tune]:\n",
        "      layer.trainable = False\n",
        "  else:\n",
        "    for layer in conv_base.layers:\n",
        "      layer.trainable = False\n",
        "# Create a few dense layers of the model (i.e. fully-connected layers).\n",
        "# This is a new top_model onto the pretrained layers.\n",
        "  flatten_layer = Flatten()\n",
        "\n",
        "# 14. 1)-3\n",
        "  dense1 = Dense(20, activation='relu')\n",
        "  dense2 = Dense(10, activation='relu')\n",
        "  output_layer = Dense(10, activation='softmax')\n",
        "\n",
        "  model = models.Sequential([conv_base, flatten_layer, dense1, dense2, output_layer])\n",
        "  return model\n",
        "\n",
        "input_shape = train_images[0].shape\n",
        "model = create_model(input_shape, fine_tune=0)\n",
        "print(model.summary())"
      ]
    },
    {
      "cell_type": "code",
      "execution_count": 23,
      "metadata": {
        "colab": {
          "base_uri": "https://localhost:8080/"
        },
        "id": "rYadpY1g95z1",
        "outputId": "d0fe3f10-49f8-488b-f84e-587794722496"
      },
      "outputs": [
        {
          "output_type": "stream",
          "name": "stdout",
          "text": [
            "Epoch 1/10\n",
            "\u001b[1m1563/1563\u001b[0m \u001b[32m━━━━━━━━━━━━━━━━━━━━\u001b[0m\u001b[37m\u001b[0m \u001b[1m17s\u001b[0m 10ms/step - accuracy: 0.3476 - loss: 1.8172 - val_accuracy: 0.5188 - val_loss: 1.3566\n",
            "Epoch 2/10\n",
            "\u001b[1m1563/1563\u001b[0m \u001b[32m━━━━━━━━━━━━━━━━━━━━\u001b[0m\u001b[37m\u001b[0m \u001b[1m19s\u001b[0m 9ms/step - accuracy: 0.5475 - loss: 1.3018 - val_accuracy: 0.5482 - val_loss: 1.2826\n",
            "Epoch 3/10\n",
            "\u001b[1m1563/1563\u001b[0m \u001b[32m━━━━━━━━━━━━━━━━━━━━\u001b[0m\u001b[37m\u001b[0m \u001b[1m20s\u001b[0m 9ms/step - accuracy: 0.5699 - loss: 1.2406 - val_accuracy: 0.5654 - val_loss: 1.2433\n",
            "Epoch 4/10\n",
            "\u001b[1m1563/1563\u001b[0m \u001b[32m━━━━━━━━━━━━━━━━━━━━\u001b[0m\u001b[37m\u001b[0m \u001b[1m21s\u001b[0m 9ms/step - accuracy: 0.5756 - loss: 1.2126 - val_accuracy: 0.5726 - val_loss: 1.2310\n",
            "Epoch 5/10\n",
            "\u001b[1m1563/1563\u001b[0m \u001b[32m━━━━━━━━━━━━━━━━━━━━\u001b[0m\u001b[37m\u001b[0m \u001b[1m20s\u001b[0m 9ms/step - accuracy: 0.5866 - loss: 1.1867 - val_accuracy: 0.5774 - val_loss: 1.2137\n",
            "Epoch 6/10\n",
            "\u001b[1m1563/1563\u001b[0m \u001b[32m━━━━━━━━━━━━━━━━━━━━\u001b[0m\u001b[37m\u001b[0m \u001b[1m13s\u001b[0m 9ms/step - accuracy: 0.5901 - loss: 1.1698 - val_accuracy: 0.5761 - val_loss: 1.2184\n",
            "Epoch 7/10\n",
            "\u001b[1m1563/1563\u001b[0m \u001b[32m━━━━━━━━━━━━━━━━━━━━\u001b[0m\u001b[37m\u001b[0m \u001b[1m13s\u001b[0m 9ms/step - accuracy: 0.5984 - loss: 1.1577 - val_accuracy: 0.5818 - val_loss: 1.2069\n",
            "Epoch 8/10\n",
            "\u001b[1m1563/1563\u001b[0m \u001b[32m━━━━━━━━━━━━━━━━━━━━\u001b[0m\u001b[37m\u001b[0m \u001b[1m20s\u001b[0m 9ms/step - accuracy: 0.5996 - loss: 1.1517 - val_accuracy: 0.5842 - val_loss: 1.2014\n",
            "Epoch 9/10\n",
            "\u001b[1m1563/1563\u001b[0m \u001b[32m━━━━━━━━━━━━━━━━━━━━\u001b[0m\u001b[37m\u001b[0m \u001b[1m21s\u001b[0m 9ms/step - accuracy: 0.6062 - loss: 1.1255 - val_accuracy: 0.5756 - val_loss: 1.2067\n",
            "Epoch 10/10\n",
            "\u001b[1m1563/1563\u001b[0m \u001b[32m━━━━━━━━━━━━━━━━━━━━\u001b[0m\u001b[37m\u001b[0m \u001b[1m13s\u001b[0m 8ms/step - accuracy: 0.6091 - loss: 1.1272 - val_accuracy: 0.5807 - val_loss: 1.2099\n",
            "\u001b[1m313/313\u001b[0m \u001b[32m━━━━━━━━━━━━━━━━━━━━\u001b[0m\u001b[37m\u001b[0m \u001b[1m2s\u001b[0m 7ms/step - accuracy: 0.5786 - loss: 1.2090\n",
            "Test Accuracy: 0.5806999802589417\n"
          ]
        }
      ],
      "source": [
        "X_train = train_images\n",
        "Y_train = train_labels\n",
        "X_test = test_images\n",
        "Y_test = test_labels\n",
        "\n",
        "model.compile(optimizer='adam', loss='categorical_crossentropy', metrics=['accuracy'])\n",
        "model.fit(X_train, Y_train, epochs=10, batch_size=32, validation_data=(X_test, Y_test))\n",
        "\n",
        "\n",
        "test_loss, test_accuracy = model.evaluate(X_test, Y_test)\n",
        "print(\"Test Accuracy:\", test_accuracy)"
      ]
    },
    {
      "cell_type": "code",
      "execution_count": 24,
      "metadata": {
        "id": "FZjA9hIoK4pB"
      },
      "outputs": [],
      "source": [
        "# 2. change the number of layers to freeze\n",
        "\n",
        "\n",
        "def create_model(input_shape, fine_tune=0):\n",
        "    from keras.applications import VGG16\n",
        "    from keras.models import Sequential\n",
        "    from keras.layers import Dense, Flatten\n",
        "\n",
        "    # Load VGG16\n",
        "    conv_base = VGG16(include_top=False, weights='imagenet', input_shape=input_shape)\n",
        "\n",
        "    if fine_tune > 0:\n",
        "        for layer in conv_base.layers[:-fine_tune]:\n",
        "            layer.trainable = False\n",
        "    else:\n",
        "        for layer in conv_base.layers:\n",
        "            layer.trainable = False\n",
        "\n",
        "    # Create a few dense layers\n",
        "    flatten_layer = Flatten()\n",
        "    dense1 = Dense(20, activation='relu')\n",
        "    dense2 = Dense(10, activation='relu')\n",
        "    output_layer = Dense(10, activation='softmax')\n",
        "\n",
        "    model = Sequential([\n",
        "        conv_base,\n",
        "        Flatten(),\n",
        "        Dense(20, activation='relu'),\n",
        "        Dense(10, activation='relu'),\n",
        "        Dense(10, activation='softmax')  # Output layer for 10 classes\n",
        "    ])\n",
        "\n",
        "    return model"
      ]
    },
    {
      "cell_type": "code",
      "execution_count": 25,
      "metadata": {
        "colab": {
          "base_uri": "https://localhost:8080/",
          "height": 490
        },
        "id": "6eRmBMSvLNzd",
        "outputId": "11272bcb-d49e-4b7b-8e21-1936979ba4af"
      },
      "outputs": [
        {
          "output_type": "display_data",
          "data": {
            "text/plain": [
              "<Figure size 640x480 with 1 Axes>"
            ],
            "image/png": "[encoded data removed]"
          },
          "metadata": {}
        },
        {
          "output_type": "stream",
          "name": "stdout",
          "text": [
            "Number of trained layers: 5\n"
          ]
        }
      ],
      "source": [
        "import matplotlib.pyplot as plt\n",
        "\n",
        "trainable_layers = [0, 2, 5, 10, 15]\n",
        "accuracies = []\n",
        "\n",
        "for fine_tune in trainable_layers:\n",
        "    model = create_model(input_shape=X_train[0].shape, fine_tune=fine_tune)\n",
        "    model.compile(optimizer='adam', loss='categorical_crossentropy', metrics=['accuracy'])\n",
        "    model.fit(X_train, Y_train, epochs=5, batch_size=32, validation_data=(X_test, Y_test), verbose=0)\n",
        "\n",
        "    _, test_accuracy = model.evaluate(X_test, Y_test, verbose=0)\n",
        "    accuracies.append(test_accuracy)\n",
        "\n",
        "# Plot a graph accuracy vs number oftrainable layers\n",
        "plt.plot(trainable_layers, accuracies, marker='o')\n",
        "plt.title(\"Accuracy vs. Number of Trained Layer\")\n",
        "plt.xlabel(\"Number of Trained Layer\")\n",
        "plt.ylabel(\"Test Accuracy\")\n",
        "plt.grid(True)\n",
        "plt.show()\n",
        "\n",
        "# Find the optimal number of layers\n",
        "optimal_layers = trainable_layers[accuracies.index(max(accuracies))]\n",
        "print(f\"Number of trained layers: {optimal_layers}\")\n"
      ]
    },
    {
      "cell_type": "code",
      "execution_count": 26,
      "metadata": {
        "colab": {
          "base_uri": "https://localhost:8080/",
          "height": 523
        },
        "id": "49V5rFfTLs-y",
        "outputId": "afdeff46-f228-4e2c-8e1e-a945fe6e6afe"
      },
      "outputs": [
        {
          "output_type": "stream",
          "name": "stdout",
          "text": [
            "Train Images Shape: (28, 28, 1)\n",
            "Train Labels Shape: (28, 28, 1)\n",
            "Test Images Shape: (28, 28, 1)\n",
            "Test Labels Shape: (28, 28, 1)\n"
          ]
        },
        {
          "output_type": "display_data",
          "data": {
            "text/plain": [
              "<Figure size 640x480 with 1 Axes>"
            ],
            "image/png": "[encoded data removed]"
          },
          "metadata": {}
        }
      ],
      "source": [
        "# 3. Use mnist dataset as an input and repeat above process\n",
        "# Load MNIST dataset\n",
        "(X_train, Y_train), (X_test, Y_test) = mnist.load_data()\n",
        "\n",
        "# Preprocess the data\n",
        "X_train = X_train.reshape(-1, 28, 28, 1).astype('float32') / 255  # Reshape and normalize\n",
        "X_test = X_test.reshape(-1, 28, 28, 1).astype('float32') / 255\n",
        "\n",
        "# One-hot encode the labels\n",
        "Y_train = to_categorical(Y_train, num_classes=10)\n",
        "Y_test = to_categorical(Y_test, num_classes=10)\n",
        "\n",
        "# Update input shape\n",
        "input_shape = X_train[0].shape\n",
        "\n",
        "# Display dataset information and one sample image\n",
        "print(\"Train Images Shape:\", input_shape)\n",
        "print(\"Train Labels Shape:\", input_shape)\n",
        "print(\"Test Images Shape:\", input_shape)\n",
        "print(\"Test Labels Shape:\", input_shape)\n",
        "\n",
        "plt.imshow(X_train[0].squeeze(), cmap='gray')\n",
        "plt.title(f\"Class: {np.argmax(X_train[0])}\")\n",
        "plt.show()\n"
      ]
    },
    {
      "cell_type": "markdown",
      "metadata": {
        "id": "_JkOjCViIzL0"
      },
      "source": [
        "# **15. Gradient descent (RMSProp)**"
      ]
    },
    {
      "cell_type": "code",
      "execution_count": 27,
      "metadata": {
        "colab": {
          "base_uri": "https://localhost:8080/"
        },
        "id": "f4uwCM-cIw5w",
        "outputId": "38be82c9-da66-4cb2-dd89-87cb1c415646"
      },
      "outputs": [
        {
          "output_type": "stream",
          "name": "stdout",
          "text": [
            "Iteration = 1: x = 9.977639320246741, y = -10.022360679524997, f(x, y) = 109.44148300662407\n",
            "Iteration = 2: x = 9.960987079971165, y = -10.039027346052775, f(x, y) = 109.02617015516043\n",
            "Iteration = 3: x = 9.94669170842711, y = -10.053342304308163, f(x, y) = 108.67006645915764\n",
            "Iteration = 4: x = 9.933699752615281, y = -10.06635678438086, f(x, y) = 108.34677646419303\n",
            "Iteration = 5: x = 9.921528472675007, y = -10.07855263179074, f(x, y) = 108.0442073885444\n",
            "Iteration = 6: x = 9.909912974517724, y = -10.090194272477708, f(x, y) = 107.75572554111247\n",
            "Iteration = 7: x = 9.898691550226388, y = -10.101443123965321, f(x, y) = 107.47728280927181\n",
            "Iteration = 8: x = 9.887758334916485, y = -10.112404848336283, f(x, y) = 107.20623019778733\n",
            "Iteration = 9: x = 9.877040563916562, y = -10.123152056311914, f(x, y) = 106.94074788037905\n",
            "Iteration = 10: x = 9.86648642865088, y = -10.133736432711798, f(x, y) = 106.67954086728105\n",
            "Iteration = 11: x = 9.856058061748598, y = -10.144195741574611, f(x, y) = 106.42166321865611\n",
            "Iteration = 12: x = 9.845727230824442, y = -10.154558126903142, f(x, y) = 106.16641014246498\n",
            "Iteration = 13: x = 9.835472563934132, y = -10.16484488394469, f(x, y) = 105.91324847981407\n",
            "Iteration = 14: x = 9.825277690418922, y = -10.175072316270944, f(x, y) = 105.66177013255867\n",
            "Iteration = 15: x = 9.81512995447264, y = -10.185253020795194, f(x, y) = 105.41165984501362\n",
            "Iteration = 16: x = 9.805019501134982, y = -10.195396800739053, f(x, y) = 105.16267231956414\n",
            "Iteration = 17: x = 9.79493861255045, y = -10.20551132855326, f(x, y) = 104.91461560417655\n",
            "Iteration = 18: x = 9.78488121719829, y = -10.215602636000948, f(x, y) = 104.66733881427285\n",
            "Iteration = 19: x = 9.774842521587455, y = -10.225675481861895, f(x, y) = 104.42072292287277\n",
            "Iteration = 20: x = 9.764818730463961, y = -10.235733631184909, f(x, y) = 104.17467376784188\n",
            "Iteration = 21: x = 9.754806832124347, y = -10.245780069481293, f(x, y) = 103.92911668947028\n",
            "Iteration = 22: x = 9.744804432335954, y = -10.255817168352069, f(x, y) = 103.68399238477818\n",
            "Iteration = 23: x = 9.734809625002876, y = -10.265846814406832, f(x, y) = 103.4392536812436\n",
            "Iteration = 24: x = 9.72482089090292, y = -10.27587051014727, f(x, y) = 103.19486301255608\n",
            "Iteration = 25: x = 9.714837018055919, y = -10.285889453253859, f(x, y) = 102.95079043504967\n",
            "Iteration = 26: x = 9.704857038881103, y = -10.295904599116897, f(x, y) = 102.70701206352962\n",
            "Iteration = 27: x = 9.694880180462343, y = -10.305916710291761, f(x, y) = 102.46350883432507\n",
            "Iteration = 28: x = 9.684905825096688, y = -10.315926395701291, f(x, y) = 102.22026552487925\n",
            "Iteration = 29: x = 9.674933478942124, y = -10.32593414176752, f(x, y) = 101.97726997524649\n",
            "Iteration = 30: x = 9.664962747064754, y = -10.335940337170449, f(x, y) = 101.73451246900284\n",
            "Iteration = 31: x = 9.654993313555458, y = -10.345945292561584, f(x, y) = 101.49198524034381\n",
            "Iteration = 32: x = 9.645024925670914, y = -10.355949256275139, f(x, y) = 101.24968208127568\n",
            "Iteration = 33: x = 9.6350573811747, y = -10.365952426858907, f(x, y) = 101.00759802833535\n",
            "Iteration = 34: x = 9.625090518226532, y = -10.375954963074653, f(x, y) = 100.76572911258458\n",
            "Iteration = 35: x = 9.615124207302696, y = -10.385956991882866, f(x, y) = 100.52407216000064\n",
            "Iteration = 36: x = 9.605158344737074, y = -10.395958614820646, f(x, y) = 100.28262463204216\n",
            "Iteration = 37: x = 9.59519284755605, y = -10.405959913097652, f(x, y) = 100.04138449826361\n",
            "Iteration = 38: x = 9.585227649347042, y = -10.4159609516688, f(x, y) = 99.80035013451054\n",
            "Iteration = 39: x = 9.575262696953162, y = -10.42596178248983, f(x, y) = 99.55952024154257\n",
            "Iteration = 40: x = 9.565297947828345, y = -10.435962447120085, f(x, y) = 99.31889377997402\n",
            "Iteration = 41: x = 9.55533336792071, y = -10.445962978803687, f(x, y) = 99.0784699182537\n",
            "Iteration = 42: x = 9.545368929978489, y = -10.455963404133781, f(x, y) = 98.83824799106658\n",
            "Iteration = 43: x = 9.535404612194018, y = -10.465963744383515, f(x, y) = 98.59822746606598\n",
            "Iteration = 44: x = 9.52544039711828, y = -10.475964016570522, f(x, y) = 98.35840791726663\n",
            "Iteration = 45: x = 9.515476270791956, y = -10.48596423430835, f(x, y) = 98.11878900376395\n",
            "Iteration = 46: x = 9.505512222049775, y = -10.495964408487474, f(x, y) = 97.87937045271204\n",
            "Iteration = 47: x = 9.495548241963585, y = -10.505964547820044, f(x, y) = 97.64015204570839\n",
            "Iteration = 48: x = 9.485584323396454, y = -10.515964659275634, f(x, y) = 97.40113360790266\n",
            "Iteration = 49: x = 9.475620460645677, y = -10.525964748429807, f(x, y) = 97.16231499928442\n",
            "Iteration = 50: x = 9.465656649156951, y = -10.535964819742954, f(x, y) = 96.92369610771415\n",
            "Iteration = 51: x = 9.455692885295514, y = -10.54596487678335, f(x, y) = 96.68527684334805\n",
            "Iteration = 52: x = 9.445729166162916, y = -10.555964922405588, f(x, y) = 96.44705713417835\n",
            "Iteration = 53: x = 9.435765489450299, y = -10.565964958893328, f(x, y) = 96.20903692246549\n",
            "Iteration = 54: x = 9.425801853320928, y = -10.575964988073489, f(x, y) = 95.97121616188406\n",
            "Iteration = 55: x = 9.415838256316135, y = -10.585965011407596, f(x, y) = 95.7335948152397\n",
            "Iteration = 56: x = 9.405874697280003, y = -10.59596503006487, f(x, y) = 95.49617285264247\n",
            "Iteration = 57: x = 9.395911175299066, y = -10.60596504498068, f(x, y) = 95.25895025004571\n",
            "Iteration = 58: x = 9.38594768965402, y = -10.615965056903322, f(x, y) = 95.02192698807707\n",
            "Iteration = 59: x = 9.375984239781072, y = -10.625965066431434, f(x, y) = 94.78510305110339\n",
            "Iteration = 60: x = 9.36602082524097, y = -10.63596507404392, f(x, y) = 94.5484784264826\n",
            "Iteration = 61: x = 9.356057445694226, y = -10.645965080123908, f(x, y) = 94.31205310396524\n",
            "Iteration = 62: x = 9.346094100881265, y = -10.655965084977897, f(x, y) = 94.07582707521557\n",
            "Iteration = 63: x = 9.336130790606536, y = -10.665965088851088, f(x, y) = 93.83980033342885\n",
            "Iteration = 64: x = 9.326167514725782, y = -10.675965091939641, f(x, y) = 93.60397287302452\n",
            "Iteration = 65: x = 9.316204273135858, y = -10.685965094400483, f(x, y) = 93.36834468940143\n",
            "Iteration = 66: x = 9.306241065766566, y = -10.695965096359156, f(x, y) = 93.13291577874142\n",
            "Iteration = 67: x = 9.29627789257413, y = -10.705965097916096, f(x, y) = 92.89768613785272\n",
            "Iteration = 68: x = 9.286314753535962, y = -10.715965099151646, f(x, y) = 92.66265576404426\n",
            "Iteration = 69: x = 9.27635164864647, y = -10.725965100130086, f(x, y) = 92.42782465502532\n",
            "Iteration = 70: x = 9.266388577913713, y = -10.735965100902838, f(x, y) = 92.19319280882517\n",
            "Iteration = 71: x = 9.25642554135671, y = -10.74596510151104, f(x, y) = 91.95876022372893\n",
            "Iteration = 72: x = 9.246462539003296, y = -10.7559651019876, f(x, y) = 91.72452689822597\n",
            "Iteration = 73: x = 9.236499570888393, y = -10.76596510235885, f(x, y) = 91.49049283096895\n",
            "Iteration = 74: x = 9.226536637052638, y = -10.775965102645849, f(x, y) = 91.25665802074082\n",
            "Iteration = 75: x = 9.216573737541276, y = -10.785965102865449, f(x, y) = 91.02302246642851\n",
            "Iteration = 76: x = 9.206610872403282, y = -10.795965103031127, f(x, y) = 90.78958616700189\n",
            "Iteration = 77: x = 9.196648041690645, y = -10.805965103153671, f(x, y) = 90.55634912149696\n",
            "Iteration = 78: x = 9.186685245457815, y = -10.815965103241705, f(x, y) = 90.32331132900234\n",
            "Iteration = 79: x = 9.176722483761234, y = -10.825965103302133, f(x, y) = 90.09047278864838\n",
            "Iteration = 80: x = 9.166759756658985, y = -10.835965103340476, f(x, y) = 89.8578334995987\n",
            "Iteration = 81: x = 9.1567970642105, y = -10.845965103361149, f(x, y) = 89.62539346104322\n",
            "Iteration = 82: x = 9.146834406476321, y = -10.855965103367687, f(x, y) = 89.39315267219263\n",
            "Iteration = 83: x = 9.136871783517924, y = -10.86596510336292, f(x, y) = 89.16111113227393\n",
            "Iteration = 84: x = 9.126909195397559, y = -10.875965103349104, f(x, y) = 88.92926884052699\n",
            "Iteration = 85: x = 9.11694664217814, y = -10.885965103328052, f(x, y) = 88.69762579620158\n",
            "Iteration = 86: x = 9.10698412392315, y = -10.895965103301211, f(x, y) = 88.46618199855533\n",
            "Iteration = 87: x = 9.097021640696557, y = -10.905965103269738, f(x, y) = 88.23493744685167\n",
            "Iteration = 88: x = 9.08705919256276, y = -10.915965103234559, f(x, y) = 88.00389214035853\n",
            "Iteration = 89: x = 9.07709677958654, y = -10.925965103196416, f(x, y) = 87.77304607834712\n",
            "Iteration = 90: x = 9.067134401833018, y = -10.935965103155903, f(x, y) = 87.54239926009106\n",
            "Iteration = 91: x = 9.057172059367627, y = -10.945965103113492, f(x, y) = 87.3119516848655\n",
            "Iteration = 92: x = 9.047209752256087, y = -10.955965103069563, f(x, y) = 87.08170335194679\n",
            "Iteration = 93: x = 9.037247480564385, y = -10.96596510302442, f(x, y) = 86.85165426061165\n",
            "Iteration = 94: x = 9.027285244358758, y = -10.975965102978305, f(x, y) = 86.62180441013703\n",
            "Iteration = 95: x = 9.017323043705685, y = -10.985965102931413, f(x, y) = 86.3921537997998\n",
            "Iteration = 96: x = 9.007360878671873, y = -10.995965102883899, f(x, y) = 86.16270242887637\n",
            "Iteration = 97: x = 8.997398749324251, y = -11.005965102835887, f(x, y) = 85.93345029664258\n",
            "Iteration = 98: x = 8.987436655729963, y = -11.01596510278748, f(x, y) = 85.70439740237352\n",
            "Iteration = 99: x = 8.977474597956368, y = -11.025965102738752, f(x, y) = 85.47554374534346\n",
            "Iteration = 100: x = 8.967512576071028, y = -11.03596510268977, f(x, y) = 85.24688932482559\n",
            "Final x value: 8.967512576071028\n",
            "Final f value: 85.24688932482559\n"
          ]
        }
      ],
      "source": [
        "# Define the function and its gradients\n",
        "def f(x, y):\n",
        "  return x**2 + 2*y +3*x\n",
        "# Compute the derivative with respect to x\n",
        "# 15. 1)-1\n",
        "def f_der_x(x):\n",
        "  return 2*x + 3\n",
        "\n",
        "# Compute the derivative with respect to y\n",
        "# 15. 1)-2 (2 pts)\n",
        "def f_der_y(y):\n",
        "  return 2\n",
        "\n",
        "gamma = 0.8\n",
        "lrate = 0.01\n",
        "epsilon = 1e-8\n",
        "\n",
        "# Accumulated gradient squares for x and y, respectively\n",
        "# 𝐺𝑡 : gt_x and gt_y\n",
        "gt_x = 0\n",
        "gt_y = 0\n",
        "# Initial values of x and y\n",
        "x, y = 10.0, -10.\n",
        "no_iterations = 100\n",
        "# RMSProp optimization loop\n",
        "# 15. 1)-3 (8 pts)\n",
        "\n",
        "for i in range(no_iterations):\n",
        "    grad_x = f_der_x(x)\n",
        "    grad_y = f_der_y(y)\n",
        "\n",
        "    gt_x = gamma * gt_x + (1 - gamma) * grad_x**2\n",
        "    gt_y = gamma * gt_y + (1 - gamma) * grad_y**2\n",
        "\n",
        "    x -= lrate / (np.sqrt(gt_x) + epsilon) * grad_x\n",
        "    y -= lrate / (np.sqrt(gt_y) + epsilon) * grad_y\n",
        "\n",
        "    print(f\"Iteration = {i + 1}: x = {x}, y = {y}, f(x, y) = {f(x, y)}\")\n",
        "\n",
        "# 15. 1)-4 (2 pts)\n",
        "print(\"Final x value:\", x)\n",
        "print(\"Final f value:\", f(x, y))\n"
      ]
    },
    {
      "cell_type": "code",
      "execution_count": 28,
      "metadata": {
        "id": "g5EBW446MuW5"
      },
      "outputs": [],
      "source": [
        "# 2. Add L2 regularization. You have to modify f, f_der_x, f-der_y functions.\n",
        "lambda_reg = 0.01\n",
        "\n",
        "def f(x, y):\n",
        "    return x**2 + 2*y + 3*x + (lambda_reg / 2) * (x**2 + y**2)\n",
        "\n",
        "def f_der_x(x):\n",
        "    return 2*x + 3 + lambda_reg * x\n",
        "\n",
        "def f_der_y(y):\n",
        "    return 2 + lambda_reg * y\n"
      ]
    },
    {
      "cell_type": "code",
      "execution_count": 29,
      "metadata": {
        "colab": {
          "base_uri": "https://localhost:8080/"
        },
        "id": "GWRFgkDAMtJB",
        "outputId": "f82f02be-336d-4577-e965-52a132ddeb00"
      },
      "outputs": [
        {
          "output_type": "stream",
          "name": "stdout",
          "text": [
            "Iteration 1: x = 9.9968, y = -10.0032, f(x, y) = 109.9210\n",
            "Iteration 2: x = 9.9936, y = -10.0064, f(x, y) = 109.8399\n",
            "Iteration 3: x = 9.9903, y = -10.0097, f(x, y) = 109.7574\n",
            "Iteration 4: x = 9.9870, y = -10.0131, f(x, y) = 109.6739\n",
            "Iteration 5: x = 9.9836, y = -10.0164, f(x, y) = 109.5896\n",
            "Iteration 6: x = 9.9802, y = -10.0198, f(x, y) = 109.5045\n",
            "Iteration 7: x = 9.9767, y = -10.0233, f(x, y) = 109.4187\n",
            "Iteration 8: x = 9.9733, y = -10.0268, f(x, y) = 109.3323\n",
            "Iteration 9: x = 9.9698, y = -10.0302, f(x, y) = 109.2454\n",
            "Iteration 10: x = 9.9663, y = -10.0338, f(x, y) = 109.1580\n",
            "Iteration 11: x = 9.9628, y = -10.0373, f(x, y) = 109.0702\n",
            "Iteration 12: x = 9.9592, y = -10.0408, f(x, y) = 108.9819\n",
            "Iteration 13: x = 9.9557, y = -10.0444, f(x, y) = 108.8931\n",
            "Iteration 14: x = 9.9521, y = -10.0480, f(x, y) = 108.8040\n",
            "Iteration 15: x = 9.9485, y = -10.0516, f(x, y) = 108.7145\n",
            "Iteration 16: x = 9.9449, y = -10.0552, f(x, y) = 108.6246\n",
            "Iteration 17: x = 9.9412, y = -10.0589, f(x, y) = 108.5343\n",
            "Iteration 18: x = 9.9376, y = -10.0625, f(x, y) = 108.4437\n",
            "Iteration 19: x = 9.9339, y = -10.0662, f(x, y) = 108.3527\n",
            "Iteration 20: x = 9.9303, y = -10.0699, f(x, y) = 108.2614\n",
            "Iteration 21: x = 9.9266, y = -10.0736, f(x, y) = 108.1698\n",
            "Iteration 22: x = 9.9229, y = -10.0773, f(x, y) = 108.0779\n",
            "Iteration 23: x = 9.9192, y = -10.0810, f(x, y) = 107.9856\n",
            "Iteration 24: x = 9.9155, y = -10.0848, f(x, y) = 107.8931\n",
            "Iteration 25: x = 9.9117, y = -10.0885, f(x, y) = 107.8002\n",
            "Iteration 26: x = 9.9080, y = -10.0923, f(x, y) = 107.7070\n",
            "Iteration 27: x = 9.9042, y = -10.0961, f(x, y) = 107.6136\n",
            "Iteration 28: x = 9.9004, y = -10.0999, f(x, y) = 107.5198\n",
            "Iteration 29: x = 9.8966, y = -10.1037, f(x, y) = 107.4258\n",
            "Iteration 30: x = 9.8928, y = -10.1075, f(x, y) = 107.3314\n",
            "Iteration 31: x = 9.8890, y = -10.1114, f(x, y) = 107.2368\n",
            "Iteration 32: x = 9.8852, y = -10.1152, f(x, y) = 107.1419\n",
            "Iteration 33: x = 9.8813, y = -10.1191, f(x, y) = 107.0468\n",
            "Iteration 34: x = 9.8775, y = -10.1230, f(x, y) = 106.9513\n",
            "Iteration 35: x = 9.8736, y = -10.1269, f(x, y) = 106.8556\n",
            "Iteration 36: x = 9.8698, y = -10.1308, f(x, y) = 106.7597\n",
            "Iteration 37: x = 9.8659, y = -10.1347, f(x, y) = 106.6634\n",
            "Iteration 38: x = 9.8620, y = -10.1387, f(x, y) = 106.5669\n",
            "Iteration 39: x = 9.8581, y = -10.1426, f(x, y) = 106.4701\n",
            "Iteration 40: x = 9.8541, y = -10.1466, f(x, y) = 106.3731\n",
            "Iteration 41: x = 9.8502, y = -10.1506, f(x, y) = 106.2758\n",
            "Iteration 42: x = 9.8462, y = -10.1545, f(x, y) = 106.1783\n",
            "Iteration 43: x = 9.8423, y = -10.1585, f(x, y) = 106.0805\n",
            "Iteration 44: x = 9.8383, y = -10.1626, f(x, y) = 105.9824\n",
            "Iteration 45: x = 9.8343, y = -10.1666, f(x, y) = 105.8841\n",
            "Iteration 46: x = 9.8303, y = -10.1706, f(x, y) = 105.7856\n",
            "Iteration 47: x = 9.8263, y = -10.1747, f(x, y) = 105.6868\n",
            "Iteration 48: x = 9.8223, y = -10.1787, f(x, y) = 105.5877\n",
            "Iteration 49: x = 9.8183, y = -10.1828, f(x, y) = 105.4884\n",
            "Iteration 50: x = 9.8143, y = -10.1869, f(x, y) = 105.3889\n",
            "Iteration 51: x = 9.8102, y = -10.1910, f(x, y) = 105.2891\n",
            "Iteration 52: x = 9.8062, y = -10.1951, f(x, y) = 105.1891\n",
            "Iteration 53: x = 9.8021, y = -10.1992, f(x, y) = 105.0889\n",
            "Iteration 54: x = 9.7980, y = -10.2034, f(x, y) = 104.9884\n",
            "Iteration 55: x = 9.7939, y = -10.2075, f(x, y) = 104.8876\n",
            "Iteration 56: x = 9.7898, y = -10.2117, f(x, y) = 104.7867\n",
            "Iteration 57: x = 9.7857, y = -10.2158, f(x, y) = 104.6855\n",
            "Iteration 58: x = 9.7816, y = -10.2200, f(x, y) = 104.5840\n",
            "Iteration 59: x = 9.7774, y = -10.2242, f(x, y) = 104.4824\n",
            "Iteration 60: x = 9.7733, y = -10.2284, f(x, y) = 104.3805\n",
            "Iteration 61: x = 9.7691, y = -10.2326, f(x, y) = 104.2784\n",
            "Iteration 62: x = 9.7650, y = -10.2369, f(x, y) = 104.1760\n",
            "Iteration 63: x = 9.7608, y = -10.2411, f(x, y) = 104.0734\n",
            "Iteration 64: x = 9.7566, y = -10.2454, f(x, y) = 103.9706\n",
            "Iteration 65: x = 9.7524, y = -10.2496, f(x, y) = 103.8676\n",
            "Iteration 66: x = 9.7482, y = -10.2539, f(x, y) = 103.7643\n",
            "Iteration 67: x = 9.7440, y = -10.2582, f(x, y) = 103.6609\n",
            "Iteration 68: x = 9.7398, y = -10.2625, f(x, y) = 103.5572\n",
            "Iteration 69: x = 9.7355, y = -10.2668, f(x, y) = 103.4533\n",
            "Iteration 70: x = 9.7313, y = -10.2712, f(x, y) = 103.3492\n",
            "Iteration 71: x = 9.7270, y = -10.2755, f(x, y) = 103.2448\n",
            "Iteration 72: x = 9.7227, y = -10.2798, f(x, y) = 103.1402\n",
            "Iteration 73: x = 9.7185, y = -10.2842, f(x, y) = 103.0355\n",
            "Iteration 74: x = 9.7142, y = -10.2886, f(x, y) = 102.9305\n",
            "Iteration 75: x = 9.7099, y = -10.2930, f(x, y) = 102.8253\n",
            "Iteration 76: x = 9.7056, y = -10.2973, f(x, y) = 102.7199\n",
            "Iteration 77: x = 9.7012, y = -10.3018, f(x, y) = 102.6143\n",
            "Iteration 78: x = 9.6969, y = -10.3062, f(x, y) = 102.5084\n",
            "Iteration 79: x = 9.6926, y = -10.3106, f(x, y) = 102.4024\n",
            "Iteration 80: x = 9.6882, y = -10.3150, f(x, y) = 102.2961\n",
            "Iteration 81: x = 9.6839, y = -10.3195, f(x, y) = 102.1897\n",
            "Iteration 82: x = 9.6795, y = -10.3239, f(x, y) = 102.0830\n",
            "Iteration 83: x = 9.6751, y = -10.3284, f(x, y) = 101.9762\n",
            "Iteration 84: x = 9.6707, y = -10.3329, f(x, y) = 101.8691\n",
            "Iteration 85: x = 9.6663, y = -10.3374, f(x, y) = 101.7619\n",
            "Iteration 86: x = 9.6619, y = -10.3419, f(x, y) = 101.6544\n",
            "Iteration 87: x = 9.6575, y = -10.3464, f(x, y) = 101.5467\n",
            "Iteration 88: x = 9.6531, y = -10.3510, f(x, y) = 101.4389\n",
            "Iteration 89: x = 9.6486, y = -10.3555, f(x, y) = 101.3308\n",
            "Iteration 90: x = 9.6442, y = -10.3600, f(x, y) = 101.2226\n",
            "Iteration 91: x = 9.6397, y = -10.3646, f(x, y) = 101.1141\n",
            "Iteration 92: x = 9.6353, y = -10.3692, f(x, y) = 101.0055\n",
            "Iteration 93: x = 9.6308, y = -10.3738, f(x, y) = 100.8966\n",
            "Iteration 94: x = 9.6263, y = -10.3784, f(x, y) = 100.7876\n",
            "Iteration 95: x = 9.6218, y = -10.3830, f(x, y) = 100.6784\n",
            "Iteration 96: x = 9.6173, y = -10.3876, f(x, y) = 100.5690\n",
            "Iteration 97: x = 9.6128, y = -10.3922, f(x, y) = 100.4594\n",
            "Iteration 98: x = 9.6083, y = -10.3968, f(x, y) = 100.3496\n",
            "Iteration 99: x = 9.6037, y = -10.4015, f(x, y) = 100.2396\n",
            "Iteration 100: x = 9.5992, y = -10.4062, f(x, y) = 100.1294\n"
          ]
        }
      ],
      "source": [
        "# 3. mplement AdaDelta. You have to define the following 𝑆𝑡 and modify the updaterule.\n",
        "\n",
        "def f(x, y):\n",
        "    return x**2 + 2*y + 3*x\n",
        "\n",
        "def f_derivative(x, y):\n",
        "    return 2*x + 3, 2  # Gradients for x and y\n",
        "\n",
        "# AdaDelta parameters\n",
        "gamma = 0.9\n",
        "epsilon = 1e-6\n",
        "\n",
        "# Initialize variables of x and y\n",
        "G = [0, 0]\n",
        "S = [0, 0]\n",
        "w = [10.0, -10.0]\n",
        "no_iterations = 100\n",
        "\n",
        "for i in range(no_iterations):\n",
        "    grad_x, grad_y = f_derivative(w[0], w[1])\n",
        "    gradients = [grad_x, grad_y]\n",
        "\n",
        "    # Update running avg\n",
        "    for idx in range(2):\n",
        "        G[idx] = gamma * G[idx] + (1 - gamma) * gradients[idx]**2\n",
        "        delta_w = -np.sqrt(S[idx] + epsilon) / np.sqrt(G[idx] + epsilon) * gradients[idx]\n",
        "        S[idx] = gamma * S[idx] + (1 - gamma) * delta_w**2\n",
        "        w[idx] += delta_w\n",
        "\n",
        "    print(f\"Iteration {i + 1}: x = {w[0]:.4f}, y = {w[1]:.4f}, f(x, y) = {f(w[0], w[1]):.4f}\")\n"
      ]
    },
    {
      "cell_type": "markdown",
      "metadata": {
        "id": "DCCqTFnFOWXE"
      },
      "source": [
        "\n",
        "# 16. Bayesian **optimization**"
      ]
    },
    {
      "cell_type": "code",
      "execution_count": 30,
      "metadata": {
        "colab": {
          "base_uri": "https://localhost:8080/"
        },
        "id": "-NkzIjn2OVuZ",
        "outputId": "7d01b5c1-30b5-4952-b448-959f2eaa9411"
      },
      "outputs": [
        {
          "output_type": "stream",
          "name": "stdout",
          "text": [
            "Mean for X_test=[2.2]: [-0.39531408]\n",
            "Standard deviation for X_test=[2.2]: [0.8186543]\n"
          ]
        }
      ],
      "source": [
        "import numpy as np\n",
        "import matplotlib.pyplot as plt\n",
        "# Define the true function\n",
        "# Suppose the true error function is cosine function\n",
        "def true_function(X):\n",
        "  return np.cos(X)\n",
        "# Define the RBF (Radial Basis Function) kernel (Gaussian Kernel)\n",
        "# Computes the RBF (Gaussian) kernel between two vectors X1 and X2.\n",
        "# X1 : numpy array 1D (size=n)\n",
        "# X2 : numpy array 1D (size=m)\n",
        "# lambda(𝜆) : Kernel coefficient for RBF\n",
        "# returns:\n",
        "# K : numpy array of shape (size of X1=n, size of X2=m).\n",
        "# 16. 1)-1\n",
        "def rbf_kernel(X1, X2, lambda_=1.0):\n",
        "    X1 = np.atleast_2d(X1)\n",
        "    X2 = np.atleast_2d(X2)\n",
        "    dist_sq = np.sum((X1[:, None] - X2[None, :])**2, axis=2)\n",
        "    return np.exp(-lambda_ * dist_sq)\n",
        "\n",
        "# Define the Gaussian Process Regression function\n",
        "# 16. 1)-2\n",
        "def gaussian_regression(X_train, y_train, X_test, lambda_=1.0):\n",
        "    # Compute covariance matrices\n",
        "    K = rbf_kernel(X_train, X_train, lambda_)\n",
        "    K_inv = np.linalg.inv(K + 1e-6 * np.eye(len(K)))  # Add small noise for numerical stability\n",
        "    K_s = rbf_kernel(X_train, X_test, lambda_)\n",
        "    K_ss = rbf_kernel(X_test, X_test, lambda_)\n",
        "\n",
        "    # Compute mean and covariance\n",
        "    mu = K_s.T @ K_inv @ y_train\n",
        "    cov = K_ss - K_s.T @ K_inv @ K_s\n",
        "    return mu.ravel(), np.diagonal(cov)\n",
        "\n",
        "\n",
        "# Suppose you did the following 6 experiments changing the values of ‘X_train’.\n",
        "# ‘y_train’ is its corresponding error function value\n",
        "X_train = np.array([[1], [3], [5], [6], [7], [8]])\n",
        "y_train = true_function(X_train).ravel()\n",
        "# Let’s estimate the error function value when x=2.2\n",
        "X_test=np.array([[2.2]])\n",
        "# 16. 1)-3 (6 pts)\n",
        "mu, variance = gaussian_regression(X_train, y_train, X_test)\n",
        "sd = np.sqrt(variance)  # Standard deviation\n",
        "\n",
        "print(f\"Mean for X_test={X_test.ravel()}: {mu}\")\n",
        "print(f\"Standard deviation for X_test={X_test.ravel()}: {sd}\")\n"
      ]
    },
    {
      "cell_type": "code",
      "execution_count": 31,
      "metadata": {
        "colab": {
          "base_uri": "https://localhost:8080/"
        },
        "id": "233zicH3QSyS",
        "outputId": "0e5cdae8-3ab5-4428-b042-34ef5aaded19"
      },
      "outputs": [
        {
          "output_type": "stream",
          "name": "stdout",
          "text": [
            "Mean for X_test=[3.4]: [-0.84839268]\n",
            "Standard deviation for X_test=[3.4]: [0.51890589]\n"
          ]
        }
      ],
      "source": [
        "#2) Now change X_test to X_test=np.array([[3.4]]). Compute mean and s.d. of X_test=3.4\n",
        "X_test = np.array([[3.4]])\n",
        "mu, variance = gaussian_regression(X_train, y_train, X_test)\n",
        "sd = np.sqrt(variance)\n",
        "\n",
        "print(f\"Mean for X_test={X_test.ravel()}: {mu}\")\n",
        "print(f\"Standard deviation for X_test={X_test.ravel()}: {sd}\")\n"
      ]
    },
    {
      "cell_type": "code",
      "execution_count": 32,
      "metadata": {
        "colab": {
          "base_uri": "https://localhost:8080/"
        },
        "id": "vUU3ZjkzRfJg",
        "outputId": "836c9b91-7389-4eca-ffda-e2b07b52e4ac"
      },
      "outputs": [
        {
          "output_type": "stream",
          "name": "stdout",
          "text": [
            "Mean vector: [ 0.20538529  0.52354085 -0.42107827 -0.89106304 -0.04178221  0.68955817\n",
            "  0.96515541  0.00303577 -0.15922685 -0.00707272]\n",
            "Standard deviation vector: [0.92985002 0.15584423 0.80971034 0.44347815 0.63661006 0.30196153\n",
            " 0.25098385 0.21292971 0.87663834 0.99980301]\n"
          ]
        }
      ],
      "source": [
        "# 3\n",
        "X_test = np.linspace(0, 10, 10).reshape(-1, 1)\n",
        "\n",
        "# Performing Gaussian Process Regression\n",
        "mu, variance = gaussian_regression(X_train, y_train, X_test)\n",
        "sd = np.sqrt(variance)\n",
        "\n",
        "print(\"Mean vector:\", mu)\n",
        "print(\"Standard deviation vector:\", sd)\n",
        "\n"
      ]
    },
    {
      "cell_type": "code",
      "execution_count": 33,
      "metadata": {
        "colab": {
          "base_uri": "https://localhost:8080/",
          "height": 472
        },
        "id": "0tE6fsIcQJvq",
        "outputId": "c81ad77e-0c3b-47a9-d17e-8c0bebcf875f"
      },
      "outputs": [
        {
          "output_type": "display_data",
          "data": {
            "text/plain": [
              "<Figure size 640x480 with 1 Axes>"
            ],
            "image/png": "[encoded data removed]"
          },
          "metadata": {}
        }
      ],
      "source": [
        "# 4\n",
        "mean = X_test.ravel()\n",
        "sd = np.sqrt(variance)\n",
        "\n",
        "plt.figure()\n",
        "plt.plot(X_test, true_function(X_test), 'r:', label=\"True function\")\n",
        "plt.plot(X_train, y_train, 'r.', markersize=10, label=\"Training data\")\n",
        "plt.plot(X_test, mean, 'b-', label=\"Prediction\")\n",
        "plt.fill_between(X_test.ravel(), mean - 1.96*sd, mean + 1.96*sd, alpha=0.2, color='b',\n",
        "label=\"Confidence interval\")\n",
        "plt.xlabel('X')\n",
        "plt.ylabel('y')\n",
        "plt.title('Gaussian Process Regression')\n",
        "plt.legend()\n",
        "plt.show()"
      ]
    },
    {
      "cell_type": "code",
      "execution_count": 34,
      "metadata": {
        "colab": {
          "base_uri": "https://localhost:8080/"
        },
        "id": "tUj9gu21Rwyt",
        "outputId": "3ecb9662-a285-4949-b8c4-d7870561a7bc"
      },
      "outputs": [
        {
          "output_type": "stream",
          "name": "stdout",
          "text": [
            "Lower Confidence Bound (LCB): [-0.72446474  0.36769662 -1.23078861 -1.33454119 -0.67839227  0.38759664\n",
            "  0.71417155 -0.20989395 -1.03586519 -1.00687573]\n",
            "Next hyperparameter value: [3.33333333]\n"
          ]
        }
      ],
      "source": [
        "# 5\n",
        "kappa = 1.0\n",
        "\n",
        "# Computing LCB for test points\n",
        "LCB = mu - kappa * sd\n",
        "print(\"Lower Confidence Bound (LCB):\", LCB)\n",
        "\n",
        "# Printing hyperparameter value\n",
        "next_x = X_test[np.argmin(LCB)]\n",
        "print(f\"Next hyperparameter value: {next_x}\")\n"
      ]
    }
  ],
  "metadata": {
    "colab": {
      "provenance": [],
      "gpuType": "T4"
    },
    "kernelspec": {
      "display_name": "Python 3",
      "name": "python3"
    },
    "language_info": {
      "name": "python"
    },
    "accelerator": "GPU"
  },
  "nbformat": 4,
  "nbformat_minor": 0
}